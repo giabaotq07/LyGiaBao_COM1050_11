{
  "cells": [
    {
      "cell_type": "code",
      "execution_count": null,
      "metadata": {
        "colab": {
          "base_uri": "https://localhost:8080/"
        },
        "id": "Hr25GFWjcLv9",
        "outputId": "382c7d18-cc34-4fab-eb8d-df362993e547"
      },
      "outputs": [
        {
          "output_type": "stream",
          "name": "stdout",
          "text": [
            "5343\n",
            "3435\n"
          ]
        }
      ],
      "source": [
        "#Revesed_String\n",
        "ArrayNumbers = input()\n",
        "Array = list(ArrayNumbers)\n",
        "Array.reverse()\n",
        "ArrayNumbers = \"\".join(Array)\n",
        "print(ArrayNumbers)\n"
      ]
    },
    {
      "cell_type": "code",
      "source": [
        "#How_To_Use_Xor_To_Swap\n",
        "FirstNumber , SecondNumber = map(int , input().split())\n",
        "FirstNumber = FirstNumber^SecondNumber  # Now It's FirstNumber^SecondNumber\n",
        "SecondNumber = FirstNumber^SecondNumber # Now It's FirstNumber\n",
        "FirstNumber = FirstNumber^SecondNumber  # Now It's SecondNumber\n",
        "print(FirstNumber , SecondNumber , sep = ' ')\n"
      ],
      "metadata": {
        "colab": {
          "base_uri": "https://localhost:8080/"
        },
        "id": "7g-WYHMckCu2",
        "outputId": "32f380cc-4f2a-4ac9-cfcf-2c06cb707d95"
      },
      "execution_count": null,
      "outputs": [
        {
          "name": "stdout",
          "output_type": "stream",
          "text": [
            "1234 4567\n",
            "4567 1234\n",
            "\n"
          ]
        }
      ]
    },
    {
      "cell_type": "code",
      "source": [
        "#Is_Power_Of_Two\n",
        "def is_power_of_two(n):\n",
        "  return n > 0 and (n & (n -1 )) == 0\n",
        "Numbers = int(input())\n",
        "print(is_power_of_two(Numbers))"
      ],
      "metadata": {
        "colab": {
          "base_uri": "https://localhost:8080/"
        },
        "id": "o21L380In58o",
        "outputId": "c8850c70-f14f-4d2d-b13f-a9f69926b840"
      },
      "execution_count": null,
      "outputs": [
        {
          "output_type": "stream",
          "name": "stdout",
          "text": [
            "4212332\n",
            "False\n"
          ]
        }
      ]
    },
    {
      "cell_type": "code",
      "source": [
        "#ROUND_HALF_DOWN\n",
        "import math\n",
        "m , n = map(float , input().split())\n",
        "Divided = m / n\n",
        "print(math.floor(Divided))"
      ],
      "metadata": {
        "id": "gbMLH6Z3qncd"
      },
      "execution_count": null,
      "outputs": []
    },
    {
      "cell_type": "code",
      "source": [
        "#ROUND_HALF_UP\n",
        "import math\n",
        "m , n = map(float , input().split())\n",
        "Divided = m / n\n",
        "print(math.ceil(Divided))"
      ],
      "metadata": {
        "id": "P8DZiVjDrARX"
      },
      "execution_count": null,
      "outputs": []
    },
    {
      "cell_type": "code",
      "source": [
        "#Even_and_Odd\n",
        "x = int(input())\n",
        "if x % 2 == 0:\n",
        "    print (\"Even\")\n",
        "else:\n",
        "    print (\"Odd\")"
      ],
      "metadata": {
        "id": "u7IS5DhnrjIR"
      },
      "execution_count": null,
      "outputs": []
    },
    {
      "cell_type": "code",
      "source": [
        "#Check_Negative_Numbers\n",
        "a = int(input())\n",
        "b = int(input())\n",
        "if a < 0 and b < 0:\n",
        "    print(\"Yes\")\n",
        "else:\n",
        "    print(\"No\")"
      ],
      "metadata": {
        "id": "LeaoagtBr-Vz"
      },
      "execution_count": null,
      "outputs": []
    },
    {
      "cell_type": "code",
      "source": [
        "#Longer_string\n",
        "def Is_a_longer_string(a , b):\n",
        "    if len(a) > len(b):\n",
        "        return True\n",
        "    return False\n",
        "a = input()\n",
        "b = input()\n",
        "print(Is_a_longer_string(a , b))"
      ],
      "metadata": {
        "colab": {
          "base_uri": "https://localhost:8080/"
        },
        "id": "XbZ4zkeutGuv",
        "outputId": "7b232e54-18d1-4856-c0de-2c5401e13a16"
      },
      "execution_count": null,
      "outputs": [
        {
          "output_type": "stream",
          "name": "stdout",
          "text": [
            "bbb\n",
            "ccccc\n",
            "False\n"
          ]
        }
      ]
    },
    {
      "cell_type": "code",
      "source": [
        "#Triangle\n",
        "def check_triangle(a , b , c):\n",
        "    if a + b > c and a + c > b and b + c > a and a > 0 and b > 0 and c > 0:\n",
        "        return \"Yes\"\n",
        "    else:\n",
        "        return \"No\"\n",
        "a = int(input())\n",
        "b = int(input())\n",
        "c = int(input())\n",
        "print(check_triangle(a, b ,c ))"
      ],
      "metadata": {
        "colab": {
          "base_uri": "https://localhost:8080/"
        },
        "id": "MoBI2gKYeARu",
        "outputId": "3506c128-8d2f-453c-a333-73d79b4bb9c8"
      },
      "execution_count": null,
      "outputs": [
        {
          "output_type": "stream",
          "name": "stdout",
          "text": [
            "3\n",
            "4\n",
            "5\n",
            "Yes\n"
          ]
        }
      ]
    },
    {
      "cell_type": "code",
      "source": [
        "#Largest_Numbers\n",
        "Maxval = 0\n",
        "for i in range(0, 4):\n",
        "    x = int(input())\n",
        "    Maxval = max(Maxval , x)\n",
        "print(Maxval)"
      ],
      "metadata": {
        "id": "2kNYsQFPeaOd"
      },
      "execution_count": null,
      "outputs": []
    },
    {
      "cell_type": "code",
      "source": [
        "#Is_Leap_Year\n",
        "def Is_Leap_Year(n):\n",
        "    if (n % 4 == 0 and n % 100 !=0) or (n % 400 == 0):\n",
        "        return \"Yes\"\n",
        "    return \"No\"\n",
        "n = int(input())\n",
        "print(Is_Leap_Year(n))"
      ],
      "metadata": {
        "id": "NU0FGLg7Ycza"
      },
      "execution_count": null,
      "outputs": []
    },
    {
      "cell_type": "code",
      "source": [
        "#CALC_EC\n",
        "EC = int(input()) #Electric number\n",
        "Levels = [(1, 50) , (51 , 100) , (101 , 200)]\n",
        "Prices = [ 1500 , 2000 , 3000]\n",
        "TotalCost = 0\n",
        "Temp = 3\n",
        "for i in range(0 , len(Levels)):\n",
        "    if EC > Levels[i][1]:\n",
        "       TotalCost += Prices[i] * (Levels[i][1] - Levels[i][0] + 1)\n",
        "    else:\n",
        "        Temp = i\n",
        "        break\n",
        "TotalCost += Prices[Temp] * (EC - Levels[Temp][0] + 1)\n",
        "print (TotalCost)"
      ],
      "metadata": {
        "id": "ui1pu8tHck3l"
      },
      "execution_count": null,
      "outputs": []
    },
    {
      "cell_type": "code",
      "source": [
        "#Solve_a_Linear_equation\n",
        "a = float(input())\n",
        "b = float(input())\n",
        "#ax + b = 0\n",
        "if a == 0:\n",
        "    if b == 0:\n",
        "        print(\"Vô số nghiệm\")\n",
        "    else:\n",
        "        print(\"Vô nghiệm\")\n",
        "else:\n",
        "    x = -b/a\n",
        "    print(f'{x:.2f}')"
      ],
      "metadata": {
        "id": "v9qax472d9i8"
      },
      "execution_count": null,
      "outputs": []
    },
    {
      "cell_type": "code",
      "source": [
        "#Academic_Ranking\n",
        "AcademicStanding = float(input())\n",
        "AcademicPerformance = [(8.0 , 'Giỏi') , (6.5 , 'Khá') , (5.0 , 'Trung bình')]\n",
        "UsedTo = False\n",
        "for i in AcademicPerformance:\n",
        "    if AcademicStanding >= i[0]:\n",
        "        print(i[1])\n",
        "        UsedTo = True\n",
        "        break\n",
        "if not UsedTo:\n",
        "    print('Yếu')"
      ],
      "metadata": {
        "colab": {
          "base_uri": "https://localhost:8080/"
        },
        "id": "0eh9M9jPfQEX",
        "outputId": "263af651-2e26-4537-c8f2-cbb6cc1d8afa"
      },
      "execution_count": 3,
      "outputs": [
        {
          "output_type": "stream",
          "name": "stdout",
          "text": [
            "4.9\n",
            "Yếu\n"
          ]
        }
      ]
    },
    {
      "cell_type": "code",
      "source": [
        "#Rounding\n",
        "RealNumber = float(input())\n",
        "IntNumber = int(RealNumber)\n",
        "if (RealNumber * 10)%10 == 0:\n",
        "    print(IntNumber , IntNumber , IntNumber , sep = ' ')\n",
        "    exit()\n",
        "sign = 1\n",
        "Roundhalfup = IntNumber\n",
        "Roundhalfdown = IntNumber\n",
        "if RealNumber < 0:\n",
        "    sign = -1\n",
        "    Roundhalfdown -= 1\n",
        "else:\n",
        "    Roundhalfup += 1\n",
        "def RoundNumber(RealNumber):\n",
        "    Temp = (RealNumber*10) % 10\n",
        "    if RealNumber < 0:\n",
        "        Temp -=10\n",
        "    if Temp*sign >= 5:\n",
        "        return IntNumber + sign\n",
        "    else:\n",
        "        return IntNumber\n",
        "print(Roundhalfup , Roundhalfdown ,RoundNumber(RealNumber) , sep = ' ')"
      ],
      "metadata": {
        "id": "Ohr36k_ykKDP"
      },
      "execution_count": null,
      "outputs": []
    }
  ],
  "metadata": {
    "colab": {
      "provenance": []
    },
    "kernelspec": {
      "display_name": "Python 3",
      "name": "python3"
    },
    "language_info": {
      "name": "python"
    }
  },
  "nbformat": 4,
  "nbformat_minor": 0
}
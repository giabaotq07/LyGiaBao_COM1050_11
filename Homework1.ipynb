{
  "nbformat": 4,
  "nbformat_minor": 0,
  "metadata": {
    "colab": {
      "provenance": []
    },
    "kernelspec": {
      "name": "python3",
      "display_name": "Python 3"
    },
    "language_info": {
      "name": "python"
    }
  },
  "cells": [
    {
      "cell_type": "code",
      "execution_count": null,
      "metadata": {
        "colab": {
          "base_uri": "https://localhost:8080/"
        },
        "id": "Mwg0gU7jwEqM",
        "outputId": "cb8225a9-eb6f-4f74-b8ba-36c461ad4660"
      },
      "outputs": [
        {
          "output_type": "stream",
          "name": "stdout",
          "text": [
            "5\n",
            "10\n"
          ]
        }
      ],
      "source": [
        "#Bai1\n",
        "n = int (input())\n",
        "print(n*2)"
      ]
    },
    {
      "cell_type": "code",
      "source": [
        "#Bai2\n",
        "a = float(input())\n",
        "b = float(input())\n",
        "S = 3.14 * (  (a/2) ** 2 )\n",
        "print(S)"
      ],
      "metadata": {
        "colab": {
          "base_uri": "https://localhost:8080/"
        },
        "id": "-RYjNswCwLUH",
        "outputId": "2cd6d222-c341-45f9-d984-541740a1b583"
      },
      "execution_count": null,
      "outputs": [
        {
          "output_type": "stream",
          "name": "stdout",
          "text": [
            "2\n",
            "4\n",
            "3.14\n"
          ]
        }
      ]
    },
    {
      "cell_type": "code",
      "source": [
        "#Bai3\n",
        "c = ord(input())\n",
        "if c >= 97 :\n",
        "  print(chr(c - 32))\n",
        "else:\n",
        "  print(chr(c + 32))"
      ],
      "metadata": {
        "colab": {
          "base_uri": "https://localhost:8080/"
        },
        "id": "F-AMt9YDwrHb",
        "outputId": "bfc46ca3-7c16-459a-a43f-b903f4091942"
      },
      "execution_count": null,
      "outputs": [
        {
          "output_type": "stream",
          "name": "stdout",
          "text": [
            "A\n",
            "a\n"
          ]
        }
      ]
    },
    {
      "cell_type": "code",
      "source": [
        "#Bai4\n",
        "c = ord(input())\n",
        "def InRange(x : int , Leftside : int , Rightside : int) -> bool :\n",
        "  return c>=Leftside and c<=Rightside\n",
        "if InRange(c,65,90) or InRange(c,97,122):\n",
        "  print(f\"{chr(c)} la ki tu alphabet\")\n",
        "else:\n",
        "  print(f\"{chr(c)} khong phai ki tu alphabet\")"
      ],
      "metadata": {
        "colab": {
          "base_uri": "https://localhost:8080/"
        },
        "id": "wSRnDdvpxL3m",
        "outputId": "5a7f60f5-89e6-4a16-d10a-42ea8ab505ba"
      },
      "execution_count": null,
      "outputs": [
        {
          "output_type": "stream",
          "name": "stdout",
          "text": [
            "@\n",
            "@ khong phai ki tu alphabet\n"
          ]
        }
      ]
    },
    {
      "cell_type": "code",
      "source": [
        "#Bai5\n",
        "Uppercase = ord(input())\n",
        "if Uppercase == 65 :\n",
        "  print('z')\n",
        "else :\n",
        "  print(chr(Uppercase + 31))"
      ],
      "metadata": {
        "colab": {
          "base_uri": "https://localhost:8080/"
        },
        "id": "a7E_Q3msSdYh",
        "outputId": "4d254896-64c9-4a18-d5f3-f38de2463ea8"
      },
      "execution_count": null,
      "outputs": [
        {
          "output_type": "stream",
          "name": "stdout",
          "text": [
            "Z\n",
            "y\n"
          ]
        }
      ]
    },
    {
      "cell_type": "code",
      "source": [
        "#Bai6\n",
        "import math\n",
        "def CheckTriangle(a,b,c):\n",
        "  if a + b > c and a + c > b and b + c > a :\n",
        "    return True\n",
        "  else :\n",
        "    return False\n",
        "def SquareTriangle(a,b,c):\n",
        "    p = (a + b + c)/2\n",
        "    return math.sqrt(p * (p-a) * (p-b) * (p-c))\n",
        "a = float(input())\n",
        "b = float(input())\n",
        "c = float(input())\n",
        "if not (CheckTriangle(a,b,c) ) :\n",
        "   print('Khong phai 3 canh cua tam giac')\n",
        "else:\n",
        "   print(f\"{SquareTriangle(a,b,c):.1f}\")\n",
        "\n"
      ],
      "metadata": {
        "colab": {
          "base_uri": "https://localhost:8080/"
        },
        "id": "95_DuZUdTsTp",
        "outputId": "242612b6-3d4e-4bde-e1c5-4b58d7d5c90d"
      },
      "execution_count": null,
      "outputs": [
        {
          "output_type": "stream",
          "name": "stdout",
          "text": [
            "7\n",
            "1\n",
            "1\n",
            "Khong phai 3 canh cua tam giac\n"
          ]
        }
      ]
    },
    {
      "cell_type": "code",
      "source": [
        "#bai7\n",
        "String = input()\n",
        "print(String[4] , String[8] ,sep=' ')"
      ],
      "metadata": {
        "colab": {
          "base_uri": "https://localhost:8080/"
        },
        "id": "WXB401RvbLQ5",
        "outputId": "b1fae481-1f2e-41c8-e842-f7cf1f35340e"
      },
      "execution_count": null,
      "outputs": [
        {
          "output_type": "stream",
          "name": "stdout",
          "text": [
            "123456789\n",
            "5 9\n"
          ]
        }
      ]
    },
    {
      "cell_type": "code",
      "source": [
        "#Bai8\n",
        "Name = input('Ten chu ho: ')\n",
        "LastMonth = int(input('Chi so thang truoc: '))\n",
        "ThisMonth = int(input('Chi so thang nay: '))\n",
        "ElectricNumber = ThisMonth - LastMonth\n",
        "Price = [(50 , 1984) , (100 , 2050) ,(200 , 2380) , (300 , 2998) ,(400 ,3350) ,(401, 3460)]\n",
        "TotalCost = 0\n",
        "BefNums = 0\n",
        "for i in range(0,len(Price)):\n",
        "  if BefNums == 400 :\n",
        "    TotalCost += (ElectricNumber - BefNums)*Price[i][1]\n",
        "    break\n",
        "  elif ElectricNumber >= Price[i][0]:\n",
        "    TotalCost += Price[i][1]*(Price[i][0] - BefNums)\n",
        "  else:\n",
        "    TotalCost += (ElectricNumber - BefNums)*Price[i][1]\n",
        "    break\n",
        "  BefNums = Price[i][0]\n",
        "print(f\"\"\"\n",
        "Ho va ten :{Name}\n",
        "Tien phai tra la :{TotalCost*1.08:.0f}\n",
        "\"\"\")"
      ],
      "metadata": {
        "colab": {
          "base_uri": "https://localhost:8080/"
        },
        "id": "-OLkTLyabqjE",
        "outputId": "4b26b5b7-a93a-4d7d-f079-88caacbb4848"
      },
      "execution_count": null,
      "outputs": [
        {
          "output_type": "stream",
          "name": "stdout",
          "text": [
            "Ten chu ho: Luu Gia Huy\n",
            "Chi so thang truoc: 2000\n",
            "Chi so thang nay: 2586\n",
            "\n",
            "Ho va ten :Luu Gia Huy\n",
            "Tien phai tra la :1855505\n",
            "\n"
          ]
        }
      ]
    },
    {
      "cell_type": "markdown",
      "source": [
        "Bonus Excersice"
      ],
      "metadata": {
        "id": "v4rVZs4UbDQC"
      }
    },
    {
      "cell_type": "code",
      "source": [
        "#1\n",
        "n = int(input())\n",
        "if n % 2 == 0:\n",
        "  print(f'{n} la so chan')\n",
        "else:\n",
        "  print(f'{n} la so le')"
      ],
      "metadata": {
        "colab": {
          "base_uri": "https://localhost:8080/"
        },
        "id": "cHnDaRP3bF-8",
        "outputId": "fe679ce1-92fc-4e3d-8a63-c66a2d971ee6"
      },
      "execution_count": null,
      "outputs": [
        {
          "output_type": "stream",
          "name": "stdout",
          "text": [
            "9\n",
            "9 la so le\n"
          ]
        }
      ]
    },
    {
      "cell_type": "code",
      "source": [
        "#2\n",
        "n = int(input())\n",
        "if n % 10 == 5:\n",
        "  print('True')\n",
        "else:\n",
        "  print('False')"
      ],
      "metadata": {
        "colab": {
          "base_uri": "https://localhost:8080/"
        },
        "id": "8I76Ub44bdb2",
        "outputId": "07940f04-c594-4ac4-e125-a9ce089a5008"
      },
      "execution_count": null,
      "outputs": [
        {
          "output_type": "stream",
          "name": "stdout",
          "text": [
            "55\n",
            "True\n"
          ]
        }
      ]
    },
    {
      "cell_type": "code",
      "source": [
        "#3\n",
        "n = int(input())\n",
        "if n % 3 == 0 and n % 5 == 0:\n",
        "  print('True')\n",
        "else:\n",
        "  print('False')"
      ],
      "metadata": {
        "colab": {
          "base_uri": "https://localhost:8080/"
        },
        "id": "TmVKqr83bsBw",
        "outputId": "5011fdff-0865-48b8-8a68-5d0b8e05ef00"
      },
      "execution_count": null,
      "outputs": [
        {
          "output_type": "stream",
          "name": "stdout",
          "text": [
            "10\n",
            "False\n"
          ]
        }
      ]
    },
    {
      "cell_type": "code",
      "source": [
        "#4\n",
        "YearOfBirth = int(input())\n",
        "if 2025 - YearOfBirth >= 18:\n",
        "  print('True')\n",
        "else:\n",
        "  print('False')"
      ],
      "metadata": {
        "colab": {
          "base_uri": "https://localhost:8080/"
        },
        "id": "DdKeO9HqdPG8",
        "outputId": "efa91a91-4672-4098-c163-c41a1f6fd583"
      },
      "execution_count": null,
      "outputs": [
        {
          "output_type": "stream",
          "name": "stdout",
          "text": [
            "2007\n",
            "True\n"
          ]
        }
      ]
    },
    {
      "cell_type": "code",
      "source": [
        "#5\n",
        "FirstNums = int(input())\n",
        "SecondNums = int(input())\n",
        "if FirstNums == SecondNums:\n",
        "  print(f'Hai so bang nhau la {FirstNums}')\n",
        "else:\n",
        "  print(f'So lon hon la {max(FirstNums,SecondNums)}')"
      ],
      "metadata": {
        "colab": {
          "base_uri": "https://localhost:8080/"
        },
        "id": "EDPd15s6e5sc",
        "outputId": "9aed9714-76c4-46bf-84d8-c3720bd39294"
      },
      "execution_count": null,
      "outputs": [
        {
          "output_type": "stream",
          "name": "stdout",
          "text": [
            "100\n",
            "100\n",
            "Hai so bang nhau la 100\n"
          ]
        }
      ]
    },
    {
      "cell_type": "code",
      "source": [
        "#6 Word Or Num\n",
        "Char = ord(input())\n",
        "if char >=48 and char <=57:\n",
        "  print(f'Day la ki tu so {char}')\n",
        "else:\n",
        "  print(f'Day la ki tu chu {char}')"
      ],
      "metadata": {
        "id": "dPLsBDMgf113"
      },
      "execution_count": null,
      "outputs": []
    },
    {
      "cell_type": "code",
      "source": [
        "#7\n",
        "YourScore = float(input())\n",
        "AcademicPerformance = [(8 ,'Gioi') , (6.5 , 'Kha') ,(5 ,'Trung binh')]\n",
        "HaveJudgment = False\n",
        "for i in AcademicPerformance:\n",
        "  if YourScore >= i[0]:\n",
        "    print(f'Hoc luc cua ban la {i[1]}')\n",
        "    HaveJudgment = True\n",
        "    break\n",
        "if  not HaveJudgment:\n",
        "  print('Hoc luc cua ban la Yeu')"
      ],
      "metadata": {
        "colab": {
          "base_uri": "https://localhost:8080/"
        },
        "id": "1uRE7AIBgj-X",
        "outputId": "40d1ca0c-580a-4667-9387-5022d66a486f"
      },
      "execution_count": null,
      "outputs": [
        {
          "output_type": "stream",
          "name": "stdout",
          "text": [
            "9.9\n",
            "Hoc luc cua ban la Gioi\n"
          ]
        }
      ]
    },
    {
      "cell_type": "code",
      "source": [
        "#8\n",
        "Years = int(input())\n",
        "if (Years % 4 == 0 or Years % 400 == 0) and Years % 100 != 0:\n",
        "  print(f'{Years} la nam nhuan')\n",
        "else:\n",
        "  print(f'{Years} la nam khong nhuan')"
      ],
      "metadata": {
        "colab": {
          "base_uri": "https://localhost:8080/"
        },
        "id": "Vl-z2m5XiwhS",
        "outputId": "9b84858a-ebcd-48ce-8742-6612d9318691"
      },
      "execution_count": null,
      "outputs": [
        {
          "output_type": "stream",
          "name": "stdout",
          "text": [
            "2024\n",
            "2024 la nam nhuan\n"
          ]
        }
      ]
    },
    {
      "cell_type": "code",
      "source": [
        "#9\n",
        "Change = [(0, 'Zero') , (1 , 'One') , (2 , 'Two') , (3 ,'Three') , (4 , 'Four'), (5 , 'Five') , (6 , 'Six') , (7 , 'Seven') , (8 , 'Eight') , (9 , 'Nine') ]\n",
        "Nums = int(input())\n",
        "print(Change[Nums][1])"
      ],
      "metadata": {
        "colab": {
          "base_uri": "https://localhost:8080/"
        },
        "id": "q-zRnNiyjONB",
        "outputId": "5fc7dcfd-0b7b-4790-faa3-bb182499fac9"
      },
      "execution_count": null,
      "outputs": [
        {
          "output_type": "stream",
          "name": "stdout",
          "text": [
            "9\n",
            "Nine\n"
          ]
        }
      ]
    },
    {
      "cell_type": "code",
      "source": [
        "#10\n",
        "YourTestScore = float (input())\n",
        "if YourTestScore >= 4:\n",
        "  print('You passed the exam')\n",
        "else:\n",
        "  print('You have to resit the exam')"
      ],
      "metadata": {
        "colab": {
          "base_uri": "https://localhost:8080/"
        },
        "id": "syvog8BPj-FK",
        "outputId": "577928d1-6ad1-4498-bf9e-a6f2d159488a"
      },
      "execution_count": null,
      "outputs": [
        {
          "output_type": "stream",
          "name": "stdout",
          "text": [
            "3.9\n",
            "You have to resit the exam\n"
          ]
        }
      ]
    },
    {
      "cell_type": "code",
      "source": [
        "#11\n",
        "YearOfBirth = int(input())\n",
        "if 2025 - YearOfBirth > 18:\n",
        "  print(f'You are over 18 years old, you have reached {2025 - YearOfBirth} years old')\n",
        "elif 2025 - YearOfBirth == 18:\n",
        "  print(f'you have reached {2025 - YearOfBirth} years old')\n",
        "else:\n",
        "  print(f'you are not yet 18 years old, you are {2025 - YearOfBirth} years old')"
      ],
      "metadata": {
        "colab": {
          "base_uri": "https://localhost:8080/"
        },
        "id": "v0G5tC3Kkm4Z",
        "outputId": "db421954-b948-4dad-c524-f9cad09b924a"
      },
      "execution_count": null,
      "outputs": [
        {
          "output_type": "stream",
          "name": "stdout",
          "text": [
            "2022\n",
            "you are not yet 18 years old, you are 3 years old\n"
          ]
        }
      ]
    }
  ]
}